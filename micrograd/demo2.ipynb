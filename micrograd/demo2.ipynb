{
  "nbformat": 4,
  "nbformat_minor": 0,
  "metadata": {
    "colab": {
      "provenance": []
    },
    "kernelspec": {
      "name": "python3",
      "display_name": "Python 3"
    },
    "language_info": {
      "name": "python"
    }
  },
  "cells": [
    {
      "cell_type": "markdown",
      "source": [
        "**Heart Disease Dataset**  \n",
        "Este conjunto de datos se utiliza para predecir la presencia de enfermedades cardíacas en pacientes, basado en diversas características médicas. Incluye 303 muestras y 14 características. Puedes encontrarlo en el [Repositorio de Machine Learning de la UCI](https://archive.ics.uci.edu/ml/datasets/Heart+Disease)."
      ],
      "metadata": {
        "id": "h4ZbClnUu2aX"
      }
    },
    {
      "cell_type": "code",
      "source": [
        "!pip install ucimlrepo"
      ],
      "metadata": {
        "colab": {
          "base_uri": "https://localhost:8080/"
        },
        "id": "a7-j7-nDtBvB",
        "outputId": "62ba5598-1b67-46c2-c3bd-6368800a08e2"
      },
      "execution_count": 3,
      "outputs": [
        {
          "output_type": "stream",
          "name": "stdout",
          "text": [
            "Collecting ucimlrepo\n",
            "  Downloading ucimlrepo-0.0.7-py3-none-any.whl.metadata (5.5 kB)\n",
            "Requirement already satisfied: pandas>=1.0.0 in /usr/local/lib/python3.10/dist-packages (from ucimlrepo) (2.2.2)\n",
            "Requirement already satisfied: certifi>=2020.12.5 in /usr/local/lib/python3.10/dist-packages (from ucimlrepo) (2024.8.30)\n",
            "Requirement already satisfied: numpy>=1.22.4 in /usr/local/lib/python3.10/dist-packages (from pandas>=1.0.0->ucimlrepo) (1.26.4)\n",
            "Requirement already satisfied: python-dateutil>=2.8.2 in /usr/local/lib/python3.10/dist-packages (from pandas>=1.0.0->ucimlrepo) (2.8.2)\n",
            "Requirement already satisfied: pytz>=2020.1 in /usr/local/lib/python3.10/dist-packages (from pandas>=1.0.0->ucimlrepo) (2024.2)\n",
            "Requirement already satisfied: tzdata>=2022.7 in /usr/local/lib/python3.10/dist-packages (from pandas>=1.0.0->ucimlrepo) (2024.2)\n",
            "Requirement already satisfied: six>=1.5 in /usr/local/lib/python3.10/dist-packages (from python-dateutil>=2.8.2->pandas>=1.0.0->ucimlrepo) (1.17.0)\n",
            "Downloading ucimlrepo-0.0.7-py3-none-any.whl (8.0 kB)\n",
            "Installing collected packages: ucimlrepo\n",
            "Successfully installed ucimlrepo-0.0.7\n"
          ]
        }
      ]
    },
    {
      "cell_type": "markdown",
      "source": [
        "### 1. **Carga de Datos**\n",
        "\n",
        "Primero, descarga el dataset desde el [Repositorio de Machine Learning de la UCI](https://archive.ics.uci.edu/ml/datasets/Heart+Disease) y cárgalo en un DataFrame de `pandas`:"
      ],
      "metadata": {
        "id": "C4AP7tAqvX2B"
      }
    },
    {
      "cell_type": "code",
      "source": [
        "import pandas as pd\n",
        "\n",
        "# Cargar el dataset\n",
        "url = 'https://archive.ics.uci.edu/ml/machine-learning-databases/heart-disease/processed.cleveland.data'\n",
        "column_names = ['age', 'sex', 'cp', 'trestbps', 'chol', 'fbs', 'restecg',\n",
        "                'thalach', 'exang', 'oldpeak', 'slope', 'ca', 'thal', 'target']\n",
        "df = pd.read_csv(url, names=column_names)"
      ],
      "metadata": {
        "id": "uOUqC3XPtGmk"
      },
      "execution_count": 12,
      "outputs": []
    },
    {
      "cell_type": "code",
      "source": [],
      "metadata": {
        "colab": {
          "base_uri": "https://localhost:8080/",
          "height": 424
        },
        "id": "f40UnceYwSYh",
        "outputId": "822792bc-89d3-41e8-8c9f-c54a3a9b7593"
      },
      "execution_count": 13,
      "outputs": [
        {
          "output_type": "execute_result",
          "data": {
            "text/plain": [
              "      age  sex   cp  trestbps   chol  fbs  restecg  thalach  exang  oldpeak  \\\n",
              "0    63.0  1.0  1.0     145.0  233.0  1.0      2.0    150.0    0.0      2.3   \n",
              "1    67.0  1.0  4.0     160.0  286.0  0.0      2.0    108.0    1.0      1.5   \n",
              "2    67.0  1.0  4.0     120.0  229.0  0.0      2.0    129.0    1.0      2.6   \n",
              "3    37.0  1.0  3.0     130.0  250.0  0.0      0.0    187.0    0.0      3.5   \n",
              "4    41.0  0.0  2.0     130.0  204.0  0.0      2.0    172.0    0.0      1.4   \n",
              "..    ...  ...  ...       ...    ...  ...      ...      ...    ...      ...   \n",
              "298  45.0  1.0  1.0     110.0  264.0  0.0      0.0    132.0    0.0      1.2   \n",
              "299  68.0  1.0  4.0     144.0  193.0  1.0      0.0    141.0    0.0      3.4   \n",
              "300  57.0  1.0  4.0     130.0  131.0  0.0      0.0    115.0    1.0      1.2   \n",
              "301  57.0  0.0  2.0     130.0  236.0  0.0      2.0    174.0    0.0      0.0   \n",
              "302  38.0  1.0  3.0     138.0  175.0  0.0      0.0    173.0    0.0      0.0   \n",
              "\n",
              "     slope   ca thal  target  \n",
              "0      3.0  0.0  6.0       0  \n",
              "1      2.0  3.0  3.0       2  \n",
              "2      2.0  2.0  7.0       1  \n",
              "3      3.0  0.0  3.0       0  \n",
              "4      1.0  0.0  3.0       0  \n",
              "..     ...  ...  ...     ...  \n",
              "298    2.0  0.0  7.0       1  \n",
              "299    2.0  2.0  7.0       2  \n",
              "300    2.0  1.0  7.0       3  \n",
              "301    2.0  1.0  3.0       1  \n",
              "302    1.0    ?  3.0       0  \n",
              "\n",
              "[303 rows x 14 columns]"
            ],
            "text/html": [
              "\n",
              "  <div id=\"df-5406331a-01f9-4230-9cc1-2644ce49a49b\" class=\"colab-df-container\">\n",
              "    <div>\n",
              "<style scoped>\n",
              "    .dataframe tbody tr th:only-of-type {\n",
              "        vertical-align: middle;\n",
              "    }\n",
              "\n",
              "    .dataframe tbody tr th {\n",
              "        vertical-align: top;\n",
              "    }\n",
              "\n",
              "    .dataframe thead th {\n",
              "        text-align: right;\n",
              "    }\n",
              "</style>\n",
              "<table border=\"1\" class=\"dataframe\">\n",
              "  <thead>\n",
              "    <tr style=\"text-align: right;\">\n",
              "      <th></th>\n",
              "      <th>age</th>\n",
              "      <th>sex</th>\n",
              "      <th>cp</th>\n",
              "      <th>trestbps</th>\n",
              "      <th>chol</th>\n",
              "      <th>fbs</th>\n",
              "      <th>restecg</th>\n",
              "      <th>thalach</th>\n",
              "      <th>exang</th>\n",
              "      <th>oldpeak</th>\n",
              "      <th>slope</th>\n",
              "      <th>ca</th>\n",
              "      <th>thal</th>\n",
              "      <th>target</th>\n",
              "    </tr>\n",
              "  </thead>\n",
              "  <tbody>\n",
              "    <tr>\n",
              "      <th>0</th>\n",
              "      <td>63.0</td>\n",
              "      <td>1.0</td>\n",
              "      <td>1.0</td>\n",
              "      <td>145.0</td>\n",
              "      <td>233.0</td>\n",
              "      <td>1.0</td>\n",
              "      <td>2.0</td>\n",
              "      <td>150.0</td>\n",
              "      <td>0.0</td>\n",
              "      <td>2.3</td>\n",
              "      <td>3.0</td>\n",
              "      <td>0.0</td>\n",
              "      <td>6.0</td>\n",
              "      <td>0</td>\n",
              "    </tr>\n",
              "    <tr>\n",
              "      <th>1</th>\n",
              "      <td>67.0</td>\n",
              "      <td>1.0</td>\n",
              "      <td>4.0</td>\n",
              "      <td>160.0</td>\n",
              "      <td>286.0</td>\n",
              "      <td>0.0</td>\n",
              "      <td>2.0</td>\n",
              "      <td>108.0</td>\n",
              "      <td>1.0</td>\n",
              "      <td>1.5</td>\n",
              "      <td>2.0</td>\n",
              "      <td>3.0</td>\n",
              "      <td>3.0</td>\n",
              "      <td>2</td>\n",
              "    </tr>\n",
              "    <tr>\n",
              "      <th>2</th>\n",
              "      <td>67.0</td>\n",
              "      <td>1.0</td>\n",
              "      <td>4.0</td>\n",
              "      <td>120.0</td>\n",
              "      <td>229.0</td>\n",
              "      <td>0.0</td>\n",
              "      <td>2.0</td>\n",
              "      <td>129.0</td>\n",
              "      <td>1.0</td>\n",
              "      <td>2.6</td>\n",
              "      <td>2.0</td>\n",
              "      <td>2.0</td>\n",
              "      <td>7.0</td>\n",
              "      <td>1</td>\n",
              "    </tr>\n",
              "    <tr>\n",
              "      <th>3</th>\n",
              "      <td>37.0</td>\n",
              "      <td>1.0</td>\n",
              "      <td>3.0</td>\n",
              "      <td>130.0</td>\n",
              "      <td>250.0</td>\n",
              "      <td>0.0</td>\n",
              "      <td>0.0</td>\n",
              "      <td>187.0</td>\n",
              "      <td>0.0</td>\n",
              "      <td>3.5</td>\n",
              "      <td>3.0</td>\n",
              "      <td>0.0</td>\n",
              "      <td>3.0</td>\n",
              "      <td>0</td>\n",
              "    </tr>\n",
              "    <tr>\n",
              "      <th>4</th>\n",
              "      <td>41.0</td>\n",
              "      <td>0.0</td>\n",
              "      <td>2.0</td>\n",
              "      <td>130.0</td>\n",
              "      <td>204.0</td>\n",
              "      <td>0.0</td>\n",
              "      <td>2.0</td>\n",
              "      <td>172.0</td>\n",
              "      <td>0.0</td>\n",
              "      <td>1.4</td>\n",
              "      <td>1.0</td>\n",
              "      <td>0.0</td>\n",
              "      <td>3.0</td>\n",
              "      <td>0</td>\n",
              "    </tr>\n",
              "    <tr>\n",
              "      <th>...</th>\n",
              "      <td>...</td>\n",
              "      <td>...</td>\n",
              "      <td>...</td>\n",
              "      <td>...</td>\n",
              "      <td>...</td>\n",
              "      <td>...</td>\n",
              "      <td>...</td>\n",
              "      <td>...</td>\n",
              "      <td>...</td>\n",
              "      <td>...</td>\n",
              "      <td>...</td>\n",
              "      <td>...</td>\n",
              "      <td>...</td>\n",
              "      <td>...</td>\n",
              "    </tr>\n",
              "    <tr>\n",
              "      <th>298</th>\n",
              "      <td>45.0</td>\n",
              "      <td>1.0</td>\n",
              "      <td>1.0</td>\n",
              "      <td>110.0</td>\n",
              "      <td>264.0</td>\n",
              "      <td>0.0</td>\n",
              "      <td>0.0</td>\n",
              "      <td>132.0</td>\n",
              "      <td>0.0</td>\n",
              "      <td>1.2</td>\n",
              "      <td>2.0</td>\n",
              "      <td>0.0</td>\n",
              "      <td>7.0</td>\n",
              "      <td>1</td>\n",
              "    </tr>\n",
              "    <tr>\n",
              "      <th>299</th>\n",
              "      <td>68.0</td>\n",
              "      <td>1.0</td>\n",
              "      <td>4.0</td>\n",
              "      <td>144.0</td>\n",
              "      <td>193.0</td>\n",
              "      <td>1.0</td>\n",
              "      <td>0.0</td>\n",
              "      <td>141.0</td>\n",
              "      <td>0.0</td>\n",
              "      <td>3.4</td>\n",
              "      <td>2.0</td>\n",
              "      <td>2.0</td>\n",
              "      <td>7.0</td>\n",
              "      <td>2</td>\n",
              "    </tr>\n",
              "    <tr>\n",
              "      <th>300</th>\n",
              "      <td>57.0</td>\n",
              "      <td>1.0</td>\n",
              "      <td>4.0</td>\n",
              "      <td>130.0</td>\n",
              "      <td>131.0</td>\n",
              "      <td>0.0</td>\n",
              "      <td>0.0</td>\n",
              "      <td>115.0</td>\n",
              "      <td>1.0</td>\n",
              "      <td>1.2</td>\n",
              "      <td>2.0</td>\n",
              "      <td>1.0</td>\n",
              "      <td>7.0</td>\n",
              "      <td>3</td>\n",
              "    </tr>\n",
              "    <tr>\n",
              "      <th>301</th>\n",
              "      <td>57.0</td>\n",
              "      <td>0.0</td>\n",
              "      <td>2.0</td>\n",
              "      <td>130.0</td>\n",
              "      <td>236.0</td>\n",
              "      <td>0.0</td>\n",
              "      <td>2.0</td>\n",
              "      <td>174.0</td>\n",
              "      <td>0.0</td>\n",
              "      <td>0.0</td>\n",
              "      <td>2.0</td>\n",
              "      <td>1.0</td>\n",
              "      <td>3.0</td>\n",
              "      <td>1</td>\n",
              "    </tr>\n",
              "    <tr>\n",
              "      <th>302</th>\n",
              "      <td>38.0</td>\n",
              "      <td>1.0</td>\n",
              "      <td>3.0</td>\n",
              "      <td>138.0</td>\n",
              "      <td>175.0</td>\n",
              "      <td>0.0</td>\n",
              "      <td>0.0</td>\n",
              "      <td>173.0</td>\n",
              "      <td>0.0</td>\n",
              "      <td>0.0</td>\n",
              "      <td>1.0</td>\n",
              "      <td>?</td>\n",
              "      <td>3.0</td>\n",
              "      <td>0</td>\n",
              "    </tr>\n",
              "  </tbody>\n",
              "</table>\n",
              "<p>303 rows × 14 columns</p>\n",
              "</div>\n",
              "    <div class=\"colab-df-buttons\">\n",
              "\n",
              "  <div class=\"colab-df-container\">\n",
              "    <button class=\"colab-df-convert\" onclick=\"convertToInteractive('df-5406331a-01f9-4230-9cc1-2644ce49a49b')\"\n",
              "            title=\"Convert this dataframe to an interactive table.\"\n",
              "            style=\"display:none;\">\n",
              "\n",
              "  <svg xmlns=\"http://www.w3.org/2000/svg\" height=\"24px\" viewBox=\"0 -960 960 960\">\n",
              "    <path d=\"M120-120v-720h720v720H120Zm60-500h600v-160H180v160Zm220 220h160v-160H400v160Zm0 220h160v-160H400v160ZM180-400h160v-160H180v160Zm440 0h160v-160H620v160ZM180-180h160v-160H180v160Zm440 0h160v-160H620v160Z\"/>\n",
              "  </svg>\n",
              "    </button>\n",
              "\n",
              "  <style>\n",
              "    .colab-df-container {\n",
              "      display:flex;\n",
              "      gap: 12px;\n",
              "    }\n",
              "\n",
              "    .colab-df-convert {\n",
              "      background-color: #E8F0FE;\n",
              "      border: none;\n",
              "      border-radius: 50%;\n",
              "      cursor: pointer;\n",
              "      display: none;\n",
              "      fill: #1967D2;\n",
              "      height: 32px;\n",
              "      padding: 0 0 0 0;\n",
              "      width: 32px;\n",
              "    }\n",
              "\n",
              "    .colab-df-convert:hover {\n",
              "      background-color: #E2EBFA;\n",
              "      box-shadow: 0px 1px 2px rgba(60, 64, 67, 0.3), 0px 1px 3px 1px rgba(60, 64, 67, 0.15);\n",
              "      fill: #174EA6;\n",
              "    }\n",
              "\n",
              "    .colab-df-buttons div {\n",
              "      margin-bottom: 4px;\n",
              "    }\n",
              "\n",
              "    [theme=dark] .colab-df-convert {\n",
              "      background-color: #3B4455;\n",
              "      fill: #D2E3FC;\n",
              "    }\n",
              "\n",
              "    [theme=dark] .colab-df-convert:hover {\n",
              "      background-color: #434B5C;\n",
              "      box-shadow: 0px 1px 3px 1px rgba(0, 0, 0, 0.15);\n",
              "      filter: drop-shadow(0px 1px 2px rgba(0, 0, 0, 0.3));\n",
              "      fill: #FFFFFF;\n",
              "    }\n",
              "  </style>\n",
              "\n",
              "    <script>\n",
              "      const buttonEl =\n",
              "        document.querySelector('#df-5406331a-01f9-4230-9cc1-2644ce49a49b button.colab-df-convert');\n",
              "      buttonEl.style.display =\n",
              "        google.colab.kernel.accessAllowed ? 'block' : 'none';\n",
              "\n",
              "      async function convertToInteractive(key) {\n",
              "        const element = document.querySelector('#df-5406331a-01f9-4230-9cc1-2644ce49a49b');\n",
              "        const dataTable =\n",
              "          await google.colab.kernel.invokeFunction('convertToInteractive',\n",
              "                                                    [key], {});\n",
              "        if (!dataTable) return;\n",
              "\n",
              "        const docLinkHtml = 'Like what you see? Visit the ' +\n",
              "          '<a target=\"_blank\" href=https://colab.research.google.com/notebooks/data_table.ipynb>data table notebook</a>'\n",
              "          + ' to learn more about interactive tables.';\n",
              "        element.innerHTML = '';\n",
              "        dataTable['output_type'] = 'display_data';\n",
              "        await google.colab.output.renderOutput(dataTable, element);\n",
              "        const docLink = document.createElement('div');\n",
              "        docLink.innerHTML = docLinkHtml;\n",
              "        element.appendChild(docLink);\n",
              "      }\n",
              "    </script>\n",
              "  </div>\n",
              "\n",
              "\n",
              "<div id=\"df-9576827a-eedc-4a47-ac2a-ffa41b017e69\">\n",
              "  <button class=\"colab-df-quickchart\" onclick=\"quickchart('df-9576827a-eedc-4a47-ac2a-ffa41b017e69')\"\n",
              "            title=\"Suggest charts\"\n",
              "            style=\"display:none;\">\n",
              "\n",
              "<svg xmlns=\"http://www.w3.org/2000/svg\" height=\"24px\"viewBox=\"0 0 24 24\"\n",
              "     width=\"24px\">\n",
              "    <g>\n",
              "        <path d=\"M19 3H5c-1.1 0-2 .9-2 2v14c0 1.1.9 2 2 2h14c1.1 0 2-.9 2-2V5c0-1.1-.9-2-2-2zM9 17H7v-7h2v7zm4 0h-2V7h2v10zm4 0h-2v-4h2v4z\"/>\n",
              "    </g>\n",
              "</svg>\n",
              "  </button>\n",
              "\n",
              "<style>\n",
              "  .colab-df-quickchart {\n",
              "      --bg-color: #E8F0FE;\n",
              "      --fill-color: #1967D2;\n",
              "      --hover-bg-color: #E2EBFA;\n",
              "      --hover-fill-color: #174EA6;\n",
              "      --disabled-fill-color: #AAA;\n",
              "      --disabled-bg-color: #DDD;\n",
              "  }\n",
              "\n",
              "  [theme=dark] .colab-df-quickchart {\n",
              "      --bg-color: #3B4455;\n",
              "      --fill-color: #D2E3FC;\n",
              "      --hover-bg-color: #434B5C;\n",
              "      --hover-fill-color: #FFFFFF;\n",
              "      --disabled-bg-color: #3B4455;\n",
              "      --disabled-fill-color: #666;\n",
              "  }\n",
              "\n",
              "  .colab-df-quickchart {\n",
              "    background-color: var(--bg-color);\n",
              "    border: none;\n",
              "    border-radius: 50%;\n",
              "    cursor: pointer;\n",
              "    display: none;\n",
              "    fill: var(--fill-color);\n",
              "    height: 32px;\n",
              "    padding: 0;\n",
              "    width: 32px;\n",
              "  }\n",
              "\n",
              "  .colab-df-quickchart:hover {\n",
              "    background-color: var(--hover-bg-color);\n",
              "    box-shadow: 0 1px 2px rgba(60, 64, 67, 0.3), 0 1px 3px 1px rgba(60, 64, 67, 0.15);\n",
              "    fill: var(--button-hover-fill-color);\n",
              "  }\n",
              "\n",
              "  .colab-df-quickchart-complete:disabled,\n",
              "  .colab-df-quickchart-complete:disabled:hover {\n",
              "    background-color: var(--disabled-bg-color);\n",
              "    fill: var(--disabled-fill-color);\n",
              "    box-shadow: none;\n",
              "  }\n",
              "\n",
              "  .colab-df-spinner {\n",
              "    border: 2px solid var(--fill-color);\n",
              "    border-color: transparent;\n",
              "    border-bottom-color: var(--fill-color);\n",
              "    animation:\n",
              "      spin 1s steps(1) infinite;\n",
              "  }\n",
              "\n",
              "  @keyframes spin {\n",
              "    0% {\n",
              "      border-color: transparent;\n",
              "      border-bottom-color: var(--fill-color);\n",
              "      border-left-color: var(--fill-color);\n",
              "    }\n",
              "    20% {\n",
              "      border-color: transparent;\n",
              "      border-left-color: var(--fill-color);\n",
              "      border-top-color: var(--fill-color);\n",
              "    }\n",
              "    30% {\n",
              "      border-color: transparent;\n",
              "      border-left-color: var(--fill-color);\n",
              "      border-top-color: var(--fill-color);\n",
              "      border-right-color: var(--fill-color);\n",
              "    }\n",
              "    40% {\n",
              "      border-color: transparent;\n",
              "      border-right-color: var(--fill-color);\n",
              "      border-top-color: var(--fill-color);\n",
              "    }\n",
              "    60% {\n",
              "      border-color: transparent;\n",
              "      border-right-color: var(--fill-color);\n",
              "    }\n",
              "    80% {\n",
              "      border-color: transparent;\n",
              "      border-right-color: var(--fill-color);\n",
              "      border-bottom-color: var(--fill-color);\n",
              "    }\n",
              "    90% {\n",
              "      border-color: transparent;\n",
              "      border-bottom-color: var(--fill-color);\n",
              "    }\n",
              "  }\n",
              "</style>\n",
              "\n",
              "  <script>\n",
              "    async function quickchart(key) {\n",
              "      const quickchartButtonEl =\n",
              "        document.querySelector('#' + key + ' button');\n",
              "      quickchartButtonEl.disabled = true;  // To prevent multiple clicks.\n",
              "      quickchartButtonEl.classList.add('colab-df-spinner');\n",
              "      try {\n",
              "        const charts = await google.colab.kernel.invokeFunction(\n",
              "            'suggestCharts', [key], {});\n",
              "      } catch (error) {\n",
              "        console.error('Error during call to suggestCharts:', error);\n",
              "      }\n",
              "      quickchartButtonEl.classList.remove('colab-df-spinner');\n",
              "      quickchartButtonEl.classList.add('colab-df-quickchart-complete');\n",
              "    }\n",
              "    (() => {\n",
              "      let quickchartButtonEl =\n",
              "        document.querySelector('#df-9576827a-eedc-4a47-ac2a-ffa41b017e69 button');\n",
              "      quickchartButtonEl.style.display =\n",
              "        google.colab.kernel.accessAllowed ? 'block' : 'none';\n",
              "    })();\n",
              "  </script>\n",
              "</div>\n",
              "\n",
              "  <div id=\"id_8bd26a3e-6716-4664-8d1a-7bca93368831\">\n",
              "    <style>\n",
              "      .colab-df-generate {\n",
              "        background-color: #E8F0FE;\n",
              "        border: none;\n",
              "        border-radius: 50%;\n",
              "        cursor: pointer;\n",
              "        display: none;\n",
              "        fill: #1967D2;\n",
              "        height: 32px;\n",
              "        padding: 0 0 0 0;\n",
              "        width: 32px;\n",
              "      }\n",
              "\n",
              "      .colab-df-generate:hover {\n",
              "        background-color: #E2EBFA;\n",
              "        box-shadow: 0px 1px 2px rgba(60, 64, 67, 0.3), 0px 1px 3px 1px rgba(60, 64, 67, 0.15);\n",
              "        fill: #174EA6;\n",
              "      }\n",
              "\n",
              "      [theme=dark] .colab-df-generate {\n",
              "        background-color: #3B4455;\n",
              "        fill: #D2E3FC;\n",
              "      }\n",
              "\n",
              "      [theme=dark] .colab-df-generate:hover {\n",
              "        background-color: #434B5C;\n",
              "        box-shadow: 0px 1px 3px 1px rgba(0, 0, 0, 0.15);\n",
              "        filter: drop-shadow(0px 1px 2px rgba(0, 0, 0, 0.3));\n",
              "        fill: #FFFFFF;\n",
              "      }\n",
              "    </style>\n",
              "    <button class=\"colab-df-generate\" onclick=\"generateWithVariable('df')\"\n",
              "            title=\"Generate code using this dataframe.\"\n",
              "            style=\"display:none;\">\n",
              "\n",
              "  <svg xmlns=\"http://www.w3.org/2000/svg\" height=\"24px\"viewBox=\"0 0 24 24\"\n",
              "       width=\"24px\">\n",
              "    <path d=\"M7,19H8.4L18.45,9,17,7.55,7,17.6ZM5,21V16.75L18.45,3.32a2,2,0,0,1,2.83,0l1.4,1.43a1.91,1.91,0,0,1,.58,1.4,1.91,1.91,0,0,1-.58,1.4L9.25,21ZM18.45,9,17,7.55Zm-12,3A5.31,5.31,0,0,0,4.9,8.1,5.31,5.31,0,0,0,1,6.5,5.31,5.31,0,0,0,4.9,4.9,5.31,5.31,0,0,0,6.5,1,5.31,5.31,0,0,0,8.1,4.9,5.31,5.31,0,0,0,12,6.5,5.46,5.46,0,0,0,6.5,12Z\"/>\n",
              "  </svg>\n",
              "    </button>\n",
              "    <script>\n",
              "      (() => {\n",
              "      const buttonEl =\n",
              "        document.querySelector('#id_8bd26a3e-6716-4664-8d1a-7bca93368831 button.colab-df-generate');\n",
              "      buttonEl.style.display =\n",
              "        google.colab.kernel.accessAllowed ? 'block' : 'none';\n",
              "\n",
              "      buttonEl.onclick = () => {\n",
              "        google.colab.notebook.generateWithVariable('df');\n",
              "      }\n",
              "      })();\n",
              "    </script>\n",
              "  </div>\n",
              "\n",
              "    </div>\n",
              "  </div>\n"
            ],
            "application/vnd.google.colaboratory.intrinsic+json": {
              "type": "dataframe",
              "variable_name": "df",
              "summary": "{\n  \"name\": \"df\",\n  \"rows\": 303,\n  \"fields\": [\n    {\n      \"column\": \"age\",\n      \"properties\": {\n        \"dtype\": \"number\",\n        \"std\": 9.038662442446743,\n        \"min\": 29.0,\n        \"max\": 77.0,\n        \"num_unique_values\": 41,\n        \"samples\": [\n          61.0,\n          64.0,\n          44.0\n        ],\n        \"semantic_type\": \"\",\n        \"description\": \"\"\n      }\n    },\n    {\n      \"column\": \"sex\",\n      \"properties\": {\n        \"dtype\": \"number\",\n        \"std\": 0.4672988277701313,\n        \"min\": 0.0,\n        \"max\": 1.0,\n        \"num_unique_values\": 2,\n        \"samples\": [\n          0.0,\n          1.0\n        ],\n        \"semantic_type\": \"\",\n        \"description\": \"\"\n      }\n    },\n    {\n      \"column\": \"cp\",\n      \"properties\": {\n        \"dtype\": \"number\",\n        \"std\": 0.9601256119600123,\n        \"min\": 1.0,\n        \"max\": 4.0,\n        \"num_unique_values\": 4,\n        \"samples\": [\n          4.0,\n          2.0\n        ],\n        \"semantic_type\": \"\",\n        \"description\": \"\"\n      }\n    },\n    {\n      \"column\": \"trestbps\",\n      \"properties\": {\n        \"dtype\": \"number\",\n        \"std\": 17.599747729587687,\n        \"min\": 94.0,\n        \"max\": 200.0,\n        \"num_unique_values\": 50,\n        \"samples\": [\n          124.0,\n          192.0\n        ],\n        \"semantic_type\": \"\",\n        \"description\": \"\"\n      }\n    },\n    {\n      \"column\": \"chol\",\n      \"properties\": {\n        \"dtype\": \"number\",\n        \"std\": 51.776917542637015,\n        \"min\": 126.0,\n        \"max\": 564.0,\n        \"num_unique_values\": 152,\n        \"samples\": [\n          321.0,\n          187.0\n        ],\n        \"semantic_type\": \"\",\n        \"description\": \"\"\n      }\n    },\n    {\n      \"column\": \"fbs\",\n      \"properties\": {\n        \"dtype\": \"number\",\n        \"std\": 0.35619787492797594,\n        \"min\": 0.0,\n        \"max\": 1.0,\n        \"num_unique_values\": 2,\n        \"samples\": [\n          0.0,\n          1.0\n        ],\n        \"semantic_type\": \"\",\n        \"description\": \"\"\n      }\n    },\n    {\n      \"column\": \"restecg\",\n      \"properties\": {\n        \"dtype\": \"number\",\n        \"std\": 0.9949712915251797,\n        \"min\": 0.0,\n        \"max\": 2.0,\n        \"num_unique_values\": 3,\n        \"samples\": [\n          2.0,\n          0.0\n        ],\n        \"semantic_type\": \"\",\n        \"description\": \"\"\n      }\n    },\n    {\n      \"column\": \"thalach\",\n      \"properties\": {\n        \"dtype\": \"number\",\n        \"std\": 22.875003276980376,\n        \"min\": 71.0,\n        \"max\": 202.0,\n        \"num_unique_values\": 91,\n        \"samples\": [\n          170.0,\n          114.0\n        ],\n        \"semantic_type\": \"\",\n        \"description\": \"\"\n      }\n    },\n    {\n      \"column\": \"exang\",\n      \"properties\": {\n        \"dtype\": \"number\",\n        \"std\": 0.46979446452231716,\n        \"min\": 0.0,\n        \"max\": 1.0,\n        \"num_unique_values\": 2,\n        \"samples\": [\n          1.0,\n          0.0\n        ],\n        \"semantic_type\": \"\",\n        \"description\": \"\"\n      }\n    },\n    {\n      \"column\": \"oldpeak\",\n      \"properties\": {\n        \"dtype\": \"number\",\n        \"std\": 1.161075022068634,\n        \"min\": 0.0,\n        \"max\": 6.2,\n        \"num_unique_values\": 40,\n        \"samples\": [\n          2.4,\n          0.2\n        ],\n        \"semantic_type\": \"\",\n        \"description\": \"\"\n      }\n    },\n    {\n      \"column\": \"slope\",\n      \"properties\": {\n        \"dtype\": \"number\",\n        \"std\": 0.6162261453459627,\n        \"min\": 1.0,\n        \"max\": 3.0,\n        \"num_unique_values\": 3,\n        \"samples\": [\n          3.0,\n          2.0\n        ],\n        \"semantic_type\": \"\",\n        \"description\": \"\"\n      }\n    },\n    {\n      \"column\": \"ca\",\n      \"properties\": {\n        \"dtype\": \"category\",\n        \"num_unique_values\": 5,\n        \"samples\": [\n          \"3.0\",\n          \"?\"\n        ],\n        \"semantic_type\": \"\",\n        \"description\": \"\"\n      }\n    },\n    {\n      \"column\": \"thal\",\n      \"properties\": {\n        \"dtype\": \"category\",\n        \"num_unique_values\": 4,\n        \"samples\": [\n          \"3.0\",\n          \"?\"\n        ],\n        \"semantic_type\": \"\",\n        \"description\": \"\"\n      }\n    },\n    {\n      \"column\": \"target\",\n      \"properties\": {\n        \"dtype\": \"number\",\n        \"std\": 1,\n        \"min\": 0,\n        \"max\": 4,\n        \"num_unique_values\": 5,\n        \"samples\": [\n          2,\n          4\n        ],\n        \"semantic_type\": \"\",\n        \"description\": \"\"\n      }\n    }\n  ]\n}"
            }
          },
          "metadata": {},
          "execution_count": 13
        }
      ]
    },
    {
      "cell_type": "markdown",
      "source": [
        "### 2. **Preprocesamiento de Datos**\n",
        "\n",
        "**Manejo de valores faltantes**: Verificar y manejar los valores faltantes en el dataset.\n"
      ],
      "metadata": {
        "id": "Pde2LyTFv-Zi"
      }
    },
    {
      "cell_type": "code",
      "source": [
        "# Reemplazar los signos de interrogación con NaN y eliminar filas con valores faltantes\n",
        "df.replace('?', pd.NA, inplace=True)\n",
        "df.dropna(inplace=True)"
      ],
      "metadata": {
        "id": "8FM4B3NMwEvr"
      },
      "execution_count": 14,
      "outputs": []
    },
    {
      "cell_type": "markdown",
      "source": [
        "**Conversión de tipos de datos**: Asegúrate de que todas las columnas tengan el tipo de dato adecuado.\n"
      ],
      "metadata": {
        "id": "wlCdzoOHwfE5"
      }
    },
    {
      "cell_type": "code",
      "source": [
        "# Convertir columnas a tipo numérico\n",
        "df = df.apply(pd.to_numeric)"
      ],
      "metadata": {
        "id": "Wsik_zM0wbGe"
      },
      "execution_count": 16,
      "outputs": []
    },
    {
      "cell_type": "markdown",
      "source": [
        "**Codificación de variables categóricas**: Si es necesario, convierte las variables categóricas en variables dummy.\n"
      ],
      "metadata": {
        "id": "mGJe49yQwwe3"
      }
    },
    {
      "cell_type": "code",
      "source": [
        "df = pd.get_dummies(df, columns=['cp', 'restecg', 'slope', 'thal'], drop_first=True)\n"
      ],
      "metadata": {
        "id": "9RCazs-9wz1o"
      },
      "execution_count": 17,
      "outputs": []
    },
    {
      "cell_type": "markdown",
      "source": [
        "- **Revisión del objetivo**: La columna `target` indica la presencia de enfermedad cardíaca. Convierte los valores mayores a 0 en 1 para una clasificación binaria.\n"
      ],
      "metadata": {
        "id": "SCOggVqLw8Md"
      }
    },
    {
      "cell_type": "code",
      "source": [
        "# Convertir el objetivo en binario\n",
        "df['target'] = df['target'].apply(lambda x: -1 if x == 0 else 1)"
      ],
      "metadata": {
        "id": "MgLjk0Bcw6Gq"
      },
      "execution_count": 41,
      "outputs": []
    },
    {
      "cell_type": "markdown",
      "source": [
        "### 3. **División de Datos**"
      ],
      "metadata": {
        "id": "c4CtPNKVxEd3"
      }
    },
    {
      "cell_type": "markdown",
      "source": [
        "Divide el dataset en conjuntos de entrenamiento y prueba."
      ],
      "metadata": {
        "id": "BLQN5ZXgxHSt"
      }
    },
    {
      "cell_type": "code",
      "source": [
        "from sklearn.model_selection import train_test_split\n",
        "\n",
        "# Separar características y objetivo\n",
        "X = df.drop('target', axis=1)\n",
        "y = df['target']\n",
        "\n",
        "# Dividir en conjuntos de entrenamiento y prueba\n",
        "X_train, X_test, y_train, y_test = train_test_split(X, y, test_size=0.2, random_state=42)"
      ],
      "metadata": {
        "id": "NqqVz9-BxCmd"
      },
      "execution_count": 42,
      "outputs": []
    },
    {
      "cell_type": "markdown",
      "source": [
        "### 4. **Normalización de Datos**"
      ],
      "metadata": {
        "id": "aH6cSChsxdo3"
      }
    },
    {
      "cell_type": "markdown",
      "source": [
        "Normaliza las características para mejorar el rendimiento del modelo."
      ],
      "metadata": {
        "id": "4Dndwjl2xf9D"
      }
    },
    {
      "cell_type": "code",
      "source": [
        "from sklearn.preprocessing import StandardScaler\n",
        "\n",
        "# Inicializar el escalador\n",
        "scaler = StandardScaler()\n",
        "\n",
        "# Ajustar y transformar los datos de entrenamiento, y transformar los datos de prueba\n",
        "X_train = scaler.fit_transform(X_train)\n",
        "X_test = scaler.transform(X_test)"
      ],
      "metadata": {
        "id": "vr4jg_Xlxhgl"
      },
      "execution_count": 43,
      "outputs": []
    },
    {
      "cell_type": "code",
      "source": [
        "import os\n",
        "pwd = \"/content/drive/MyDrive/Colab Notebooks/micrograd/\"\n",
        "os.chdir(pwd)\n",
        "!pwd"
      ],
      "metadata": {
        "colab": {
          "base_uri": "https://localhost:8080/"
        },
        "id": "U32vodWmy-vZ",
        "outputId": "564c0de1-9896-4726-c724-afda4a3039d3"
      },
      "execution_count": 21,
      "outputs": [
        {
          "output_type": "stream",
          "name": "stdout",
          "text": [
            "/content/drive/MyDrive/Colab Notebooks/micrograd\n"
          ]
        }
      ]
    },
    {
      "cell_type": "markdown",
      "source": [
        "### 5. **Inicialización del Modelo**\n",
        "\n",
        "\n"
      ],
      "metadata": {
        "id": "3QHKyNHKxw4D"
      }
    },
    {
      "cell_type": "markdown",
      "source": [
        "Primero, crea una instancia de tu MLP especificando el número de entradas y la arquitectura de las capas ocultas. Por ejemplo, si tienes 13 características de entrada y deseas dos capas ocultas con 16 neuronas cada capa:"
      ],
      "metadata": {
        "id": "fCDnC-7ex1he"
      }
    },
    {
      "cell_type": "code",
      "source": [
        "import random\n",
        "import numpy as np\n",
        "import matplotlib.pyplot as plt\n",
        "%matplotlib inline\n",
        "\n",
        "from micrograd.engine import Value\n",
        "from micrograd.nn import Neuron, Layer, MLP\n",
        "\n",
        "# Inicializar el modelo con 13 entradas y dos capas ocultas\n",
        "model = MLP(13, [16, 16, 1])\n",
        "np.random.seed(1337)\n",
        "random.seed(1337)"
      ],
      "metadata": {
        "id": "gSrPx10gxvnf"
      },
      "execution_count": 48,
      "outputs": []
    },
    {
      "cell_type": "markdown",
      "source": [
        "### 6. **Definición de la Función de Pérdida**\n"
      ],
      "metadata": {
        "id": "2fPtKWZU0njM"
      }
    },
    {
      "cell_type": "markdown",
      "source": [
        "Implementa una función de pérdida adecuada para tu tarea de clasificación binaria. Una opción común es la pérdida de margen máximo (SVM)"
      ],
      "metadata": {
        "id": "qLGQNFcy0evv"
      }
    },
    {
      "cell_type": "code",
      "source": [
        "# loss function\n",
        "def loss(batch_size=None):\n",
        "\n",
        "    # inline DataLoader :)\n",
        "    if batch_size is None:\n",
        "        Xb, yb = X_train, y_train\n",
        "    else:\n",
        "        ri = np.random.permutation(X.shape[0])[:batch_size]\n",
        "        Xb, yb = X_train[ri], y_train[ri]\n",
        "    inputs = [list(map(Value, xrow)) for xrow in Xb]\n",
        "\n",
        "    # forward the model to get scores\n",
        "    scores = list(map(model, inputs))\n",
        "\n",
        "    # svm \"max-margin\" loss\n",
        "    losses = [(1 + -yi*scorei).relu() for yi, scorei in zip(yb, scores)]\n",
        "    data_loss = sum(losses) * (1.0 / len(losses))\n",
        "    # L2 regularization\n",
        "    alpha = 1e-4\n",
        "    reg_loss = alpha * sum((p*p for p in model.parameters()))\n",
        "    total_loss = data_loss + reg_loss\n",
        "\n",
        "    # also get accuracy\n",
        "    accuracy = [(yi > 0) == (scorei.data > 0) for yi, scorei in zip(yb, scores)]\n",
        "    return total_loss, sum(accuracy) / len(accuracy)\n",
        "\n",
        "total_loss, acc = loss()\n",
        "print(total_loss, acc)"
      ],
      "metadata": {
        "colab": {
          "base_uri": "https://localhost:8080/"
        },
        "id": "w-Zoxjxc0b6t",
        "outputId": "cf033145-30ad-40b0-cb3b-5722c06e84d4"
      },
      "execution_count": 49,
      "outputs": [
        {
          "output_type": "stream",
          "name": "stdout",
          "text": [
            "Value(data=0.49402945016507976, grad=0) 0.7763713080168776\n"
          ]
        }
      ]
    },
    {
      "cell_type": "markdown",
      "source": [
        "### 7. **Ciclo de Entrenamiento**"
      ],
      "metadata": {
        "id": "JcW8UOB24La1"
      }
    },
    {
      "cell_type": "markdown",
      "source": [
        "Implementa el ciclo de entrenamiento que incluye la propagación hacia adelante, el cálculo de la pérdida, la retropropagación y la actualización de los parámetros:"
      ],
      "metadata": {
        "id": "3Z8Qs77h4Q6Q"
      }
    },
    {
      "cell_type": "code",
      "source": [
        "# optimization\n",
        "for k in range(100):\n",
        "\n",
        "    # forward\n",
        "    total_loss, acc = loss()\n",
        "\n",
        "    # backward\n",
        "    model.zero_grad()\n",
        "    total_loss.backward()\n",
        "\n",
        "    # update (sgd)\n",
        "    # learning_rate = 1.0 - 0.9*k/100\n",
        "    learning_rate = 0.01\n",
        "    for p in model.parameters():\n",
        "        p.data -= learning_rate * p.grad\n",
        "\n",
        "    if k % 1 == 0:\n",
        "        print(f\"step {k} loss {total_loss.data}, accuracy {acc*100}%\")"
      ],
      "metadata": {
        "colab": {
          "base_uri": "https://localhost:8080/"
        },
        "id": "YlZjtvrO2PDS",
        "outputId": "43f632d4-a97b-486b-a245-4816a9e50620"
      },
      "execution_count": 50,
      "outputs": [
        {
          "output_type": "stream",
          "name": "stdout",
          "text": [
            "step 0 loss 0.49402945016507976, accuracy 77.63713080168776%\n",
            "step 1 loss 0.4486180955760732, accuracy 79.74683544303798%\n",
            "step 2 loss 0.4115871750528911, accuracy 82.70042194092827%\n",
            "step 3 loss 0.38024613774146754, accuracy 86.49789029535864%\n",
            "step 4 loss 0.35273209211741074, accuracy 87.76371308016878%\n",
            "step 5 loss 0.3274010896231087, accuracy 88.60759493670885%\n",
            "step 6 loss 0.30384201833480134, accuracy 89.0295358649789%\n",
            "step 7 loss 0.2846352523516884, accuracy 89.87341772151899%\n",
            "step 8 loss 0.2662616635597411, accuracy 90.71729957805907%\n",
            "step 9 loss 0.24946004394671828, accuracy 91.13924050632912%\n",
            "step 10 loss 0.23277718759947366, accuracy 91.9831223628692%\n",
            "step 11 loss 0.2165378340652727, accuracy 93.24894514767934%\n",
            "step 12 loss 0.2018548922814956, accuracy 94.51476793248945%\n",
            "step 13 loss 0.18801195263549655, accuracy 94.9367088607595%\n",
            "step 14 loss 0.1748577212030588, accuracy 95.35864978902954%\n",
            "step 15 loss 0.16318941290446065, accuracy 96.20253164556962%\n",
            "step 16 loss 0.15323480733703546, accuracy 96.62447257383965%\n",
            "step 17 loss 0.1446603684961183, accuracy 96.62447257383965%\n",
            "step 18 loss 0.1363988457497066, accuracy 97.46835443037975%\n",
            "step 19 loss 0.12816232162742966, accuracy 98.31223628691983%\n",
            "step 20 loss 0.12048301095893577, accuracy 98.31223628691983%\n",
            "step 21 loss 0.11386915718068154, accuracy 98.31223628691983%\n",
            "step 22 loss 0.10787869109742546, accuracy 99.15611814345992%\n",
            "step 23 loss 0.1028653049939309, accuracy 99.15611814345992%\n",
            "step 24 loss 0.09816220894647178, accuracy 99.15611814345992%\n",
            "step 25 loss 0.09374021644884722, accuracy 99.15611814345992%\n",
            "step 26 loss 0.08944552077506983, accuracy 99.15611814345992%\n",
            "step 27 loss 0.08540324086883287, accuracy 99.15611814345992%\n",
            "step 28 loss 0.08201031190038992, accuracy 99.15611814345992%\n",
            "step 29 loss 0.07894036390967259, accuracy 99.15611814345992%\n",
            "step 30 loss 0.07610530161369888, accuracy 99.15611814345992%\n",
            "step 31 loss 0.07330080445584934, accuracy 99.57805907172997%\n",
            "step 32 loss 0.07064271321170063, accuracy 99.57805907172997%\n",
            "step 33 loss 0.06806318784123863, accuracy 99.57805907172997%\n",
            "step 34 loss 0.06547853070268476, accuracy 99.57805907172997%\n",
            "step 35 loss 0.06291295086820105, accuracy 99.57805907172997%\n",
            "step 36 loss 0.06051214252772899, accuracy 99.57805907172997%\n",
            "step 37 loss 0.058233592868315934, accuracy 99.57805907172997%\n",
            "step 38 loss 0.05631837864162636, accuracy 99.57805907172997%\n",
            "step 39 loss 0.05445572614640947, accuracy 99.57805907172997%\n",
            "step 40 loss 0.05271171373054613, accuracy 99.57805907172997%\n",
            "step 41 loss 0.051327370751476115, accuracy 99.57805907172997%\n",
            "step 42 loss 0.050107257059932436, accuracy 99.57805907172997%\n",
            "step 43 loss 0.04888562327325742, accuracy 99.57805907172997%\n",
            "step 44 loss 0.04766241211062148, accuracy 99.57805907172997%\n",
            "step 45 loss 0.04647904924909751, accuracy 99.57805907172997%\n",
            "step 46 loss 0.04540581976135816, accuracy 99.57805907172997%\n",
            "step 47 loss 0.04443442964535775, accuracy 99.57805907172997%\n",
            "step 48 loss 0.04361198248728214, accuracy 99.57805907172997%\n",
            "step 49 loss 0.04289542603025155, accuracy 99.57805907172997%\n",
            "step 50 loss 0.042177928525361556, accuracy 99.57805907172997%\n",
            "step 51 loss 0.041459467366925136, accuracy 99.57805907172997%\n",
            "step 52 loss 0.04074001990383499, accuracy 99.57805907172997%\n",
            "step 53 loss 0.040050964036050136, accuracy 99.57805907172997%\n",
            "step 54 loss 0.03940927353830913, accuracy 99.57805907172997%\n",
            "step 55 loss 0.038835799289218945, accuracy 99.57805907172997%\n",
            "step 56 loss 0.03835836209092033, accuracy 100.0%\n",
            "step 57 loss 0.037882931615564996, accuracy 100.0%\n",
            "step 58 loss 0.037437290806794435, accuracy 100.0%\n",
            "step 59 loss 0.03703805525192119, accuracy 100.0%\n",
            "step 60 loss 0.03663805482458408, accuracy 100.0%\n",
            "step 61 loss 0.0362372820788101, accuracy 100.0%\n",
            "step 62 loss 0.035835729540527717, accuracy 100.0%\n",
            "step 63 loss 0.03543338970729602, accuracy 100.0%\n",
            "step 64 loss 0.03503907780890199, accuracy 100.0%\n",
            "step 65 loss 0.03468094107065518, accuracy 100.0%\n",
            "step 66 loss 0.03432212385063519, accuracy 100.0%\n",
            "step 67 loss 0.033962619773817794, accuracy 100.0%\n",
            "step 68 loss 0.03360242244310755, accuracy 100.0%\n",
            "step 69 loss 0.033241525439128505, accuracy 100.0%\n",
            "step 70 loss 0.03287992232001386, accuracy 100.0%\n",
            "step 71 loss 0.03251760662119427, accuracy 100.0%\n",
            "step 72 loss 0.03215457185518516, accuracy 100.0%\n",
            "step 73 loss 0.031790811511372495, accuracy 100.0%\n",
            "step 74 loss 0.031426319055797625, accuracy 100.0%\n",
            "step 75 loss 0.031061087930940652, accuracy 100.0%\n",
            "step 76 loss 0.030695111555502606, accuracy 100.0%\n",
            "step 77 loss 0.03032838332418654, accuracy 100.0%\n",
            "step 78 loss 0.029960896607476757, accuracy 100.0%\n",
            "step 79 loss 0.02959264475141752, accuracy 100.0%\n",
            "step 80 loss 0.029226972379607835, accuracy 100.0%\n",
            "step 81 loss 0.028906054258395243, accuracy 100.0%\n",
            "step 82 loss 0.028584529206123567, accuracy 100.0%\n",
            "step 83 loss 0.02826622694367903, accuracy 100.0%\n",
            "step 84 loss 0.027968728149863616, accuracy 100.0%\n",
            "step 85 loss 0.027681071454535834, accuracy 100.0%\n",
            "step 86 loss 0.027422957208860274, accuracy 100.0%\n",
            "step 87 loss 0.027164388454262674, accuracy 100.0%\n",
            "step 88 loss 0.02690536184380104, accuracy 100.0%\n",
            "step 89 loss 0.026645874019474183, accuracy 100.0%\n",
            "step 90 loss 0.02638592161214255, accuracy 100.0%\n",
            "step 91 loss 0.02612550124144885, accuracy 100.0%\n",
            "step 92 loss 0.02586460951573799, accuracy 100.0%\n",
            "step 93 loss 0.025603243031976863, accuracy 100.0%\n",
            "step 94 loss 0.02535089092035489, accuracy 100.0%\n",
            "step 95 loss 0.02512398552435794, accuracy 100.0%\n",
            "step 96 loss 0.024896669334729005, accuracy 100.0%\n",
            "step 97 loss 0.02466893958181763, accuracy 100.0%\n",
            "step 98 loss 0.024440793486842666, accuracy 100.0%\n",
            "step 99 loss 0.02421222826183115, accuracy 100.0%\n"
          ]
        }
      ]
    },
    {
      "cell_type": "markdown",
      "source": [
        "## 8. **Evaluación del Modelo**"
      ],
      "metadata": {
        "id": "ktOA0br0Yjpe"
      }
    },
    {
      "cell_type": "markdown",
      "source": [
        "Después del entrenamiento, evalúa el rendimiento del modelo en un conjunto de datos de prueba para verificar su capacidad de generalización:\n",
        "\n"
      ],
      "metadata": {
        "id": "5grx3x1JY80G"
      }
    },
    {
      "cell_type": "code",
      "source": [
        "correct_predictions = 0\n",
        "\n",
        "for x, y in zip(X_test, y_test):\n",
        "    inputs = [Value(xi) for xi in x]\n",
        "    output = model(inputs)\n",
        "    predicted_label = 1 if output.data > 0 else -1\n",
        "    if predicted_label == y:\n",
        "        correct_predictions += 1\n",
        "\n",
        "accuracy = correct_predictions / len(X_test)\n",
        "print(f\"Precisión en el conjunto de prueba: {accuracy:.4f}\")"
      ],
      "metadata": {
        "colab": {
          "base_uri": "https://localhost:8080/"
        },
        "id": "B3rlh0h0YU_r",
        "outputId": "3ec5d9f5-5a61-4660-fc0a-ed7380dd4bcb"
      },
      "execution_count": 51,
      "outputs": [
        {
          "output_type": "stream",
          "name": "stdout",
          "text": [
            "Precisión en el conjunto de prueba: 0.9833\n"
          ]
        }
      ]
    }
  ]
}